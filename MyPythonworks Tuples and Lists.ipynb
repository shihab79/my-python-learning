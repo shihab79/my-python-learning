{
 "cells": [
  {
   "cell_type": "markdown",
   "id": "8705eeb4-6c8c-4496-a39a-d802cae97761",
   "metadata": {},
   "source": [
    "# Lists and Tuples\n",
    "* Lists and Tuples are called compound data types\n",
    "* Tuples are orderd sequence of different data types including tuples as well.\n",
    "* Tuples are expressed in comma seperated elements within a paranthesis.\n",
    "\n"
   ]
  },
  {
   "cell_type": "code",
   "execution_count": 12,
   "id": "fcbef3ae-7a6b-4e5d-a93b-fd3ddf58939a",
   "metadata": {},
   "outputs": [
    {
     "data": {
      "text/plain": [
       "tuple"
      ]
     },
     "execution_count": 12,
     "metadata": {},
     "output_type": "execute_result"
    }
   ],
   "source": [
    "#Example of a tuple\n",
    "tup1=('Disco',10.2,1)\n",
    "\n",
    "# Print type of a tuple, it is tuple\n",
    "type(tup1)"
   ]
  },
  {
   "cell_type": "code",
   "execution_count": 13,
   "id": "008ae3dc-7193-4220-a767-8c0576d52ba2",
   "metadata": {},
   "outputs": [
    {
     "data": {
      "text/plain": [
       "'Disco'"
      ]
     },
     "execution_count": 13,
     "metadata": {},
     "output_type": "execute_result"
    }
   ],
   "source": [
    "# Each element of a tuple can be accessed by index using a SQUARE bracket\n",
    "# Index starting from 0, the first element\n",
    "tup1[0]\n"
   ]
  },
  {
   "cell_type": "code",
   "execution_count": 14,
   "id": "efd27aaf-bbb8-4c52-be12-c05ee250bda4",
   "metadata": {},
   "outputs": [
    {
     "data": {
      "text/plain": [
       "1"
      ]
     },
     "execution_count": 14,
     "metadata": {},
     "output_type": "execute_result"
    }
   ],
   "source": [
    "#Last element of tup1\n",
    "tup1[2]"
   ]
  },
  {
   "cell_type": "code",
   "execution_count": 15,
   "id": "7d06a79a-4964-48ca-8af8-c28c96684b51",
   "metadata": {},
   "outputs": [
    {
     "data": {
      "text/plain": [
       "'Disco'"
      ]
     },
     "execution_count": 15,
     "metadata": {},
     "output_type": "execute_result"
    }
   ],
   "source": [
    "#Negative index  last element is -1\n",
    "tup1[-1]\n",
    "# first element is -3\n",
    "tup1[-3]"
   ]
  },
  {
   "cell_type": "code",
   "execution_count": 16,
   "id": "06366685-3ec7-44a2-90f7-ef3bcfea141b",
   "metadata": {},
   "outputs": [],
   "source": [
    "# Adding elements and create a new tuple from existing\n",
    "tup2=tup1+(\"Hard Rock\",10)\n"
   ]
  },
  {
   "cell_type": "code",
   "execution_count": 17,
   "id": "c174b299-726c-4a01-a303-9bfcf52e7ae9",
   "metadata": {},
   "outputs": [
    {
     "data": {
      "text/plain": [
       "('Hard Rock', 10)"
      ]
     },
     "execution_count": 17,
     "metadata": {},
     "output_type": "execute_result"
    }
   ],
   "source": [
    "#Print first 3 elements of a tuple\n",
    "#Below will print index 0, idex1 and the last item as index2 ,\n",
    "tup2[0:3]\n",
    "\n",
    "# print last 2 elements, the last element is +1 from the length of the tuple\n",
    "tup2[3:5]"
   ]
  },
  {
   "cell_type": "code",
   "execution_count": 18,
   "id": "cf5b8611-d287-4b6b-a189-e3efc99efb11",
   "metadata": {},
   "outputs": [
    {
     "data": {
      "text/plain": [
       "5"
      ]
     },
     "execution_count": 18,
     "metadata": {},
     "output_type": "execute_result"
    }
   ],
   "source": [
    "#length of the tuple\n",
    "len(tup2)"
   ]
  },
  {
   "cell_type": "code",
   "execution_count": 19,
   "id": "1e0609d4-3337-46ce-9f5b-1550832cd0b2",
   "metadata": {},
   "outputs": [],
   "source": [
    "#Tuples are immutable, means we cannot change them"
   ]
  },
  {
   "cell_type": "code",
   "execution_count": 20,
   "id": "17a26168-18b5-4e2b-af18-7f4f1bf5a75e",
   "metadata": {},
   "outputs": [
    {
     "data": {
      "text/plain": [
       "[8, 9, 10, 11, 15]"
      ]
     },
     "execution_count": 20,
     "metadata": {},
     "output_type": "execute_result"
    }
   ],
   "source": [
    "#Sort a tuple\n",
    "tup3=(10,11,9,8,15)\n",
    "tup4=sorted(tup3)\n",
    "tup4[0:5]"
   ]
  },
  {
   "cell_type": "code",
   "execution_count": 21,
   "id": "44ab9750-8270-4e8b-a53e-88fb24ea26a5",
   "metadata": {},
   "outputs": [],
   "source": [
    "## Nested Tuple index"
   ]
  },
  {
   "cell_type": "code",
   "execution_count": 22,
   "id": "2731a277-818d-4aed-a093-b1b740d4e3b2",
   "metadata": {},
   "outputs": [
    {
     "data": {
      "text/plain": [
       "'rock'"
      ]
     },
     "execution_count": 22,
     "metadata": {},
     "output_type": "execute_result"
    }
   ],
   "source": [
    "NT=(1,2,(10,\"rock\"))\n",
    "## Selecting rock\n",
    "NT[2][1]\n"
   ]
  },
  {
   "cell_type": "markdown",
   "id": "d1593101-ae49-4ed1-8f31-5709388e5679",
   "metadata": {},
   "source": [
    "# LISTS"
   ]
  },
  {
   "cell_type": "code",
   "execution_count": 23,
   "id": "4ff87424-1d63-4999-8d01-dde31a426594",
   "metadata": {},
   "outputs": [],
   "source": [
    "## Lists are also an ordered sequence, represented in square bracket. Where Tuples are in parantheses\n",
    "## Lists are mutable\n",
    "\n",
    "L=[\"Michael Jackson\",10.2,1]\n"
   ]
  },
  {
   "cell_type": "code",
   "execution_count": 24,
   "id": "2609dfa1-16bf-49a4-b2ab-3e3625b78fd3",
   "metadata": {},
   "outputs": [],
   "source": [
    "##We can also nest Tuples inside a List\n",
    "L=[\"Michael Jackson\",10.2,1,(\"rock\",17,0)]"
   ]
  },
  {
   "cell_type": "code",
   "execution_count": 25,
   "id": "1541ba96-fecd-4b14-b183-dd82c8b17aef",
   "metadata": {},
   "outputs": [
    {
     "data": {
      "text/plain": [
       "'Michael Jackson'"
      ]
     },
     "execution_count": 25,
     "metadata": {},
     "output_type": "execute_result"
    }
   ],
   "source": [
    "##Printing a LIST\n",
    "L[0]"
   ]
  },
  {
   "cell_type": "code",
   "execution_count": 27,
   "id": "04a5d952-319e-410a-becb-6e000c8d8285",
   "metadata": {},
   "outputs": [
    {
     "data": {
      "text/plain": [
       "'rock'"
      ]
     },
     "execution_count": 27,
     "metadata": {},
     "output_type": "execute_result"
    }
   ],
   "source": [
    "##Negative Index\n",
    "L[-1][-3]"
   ]
  },
  {
   "cell_type": "code",
   "execution_count": 28,
   "id": "3dab46be-33f6-4386-b9eb-37b7e5175252",
   "metadata": {},
   "outputs": [
    {
     "data": {
      "text/plain": [
       "['Michael Jackson', 10.2]"
      ]
     },
     "execution_count": 28,
     "metadata": {},
     "output_type": "execute_result"
    }
   ],
   "source": [
    "L[0:2]"
   ]
  },
  {
   "cell_type": "code",
   "execution_count": 36,
   "id": "9337a24e-5778-4a35-8920-6d1841766df3",
   "metadata": {},
   "outputs": [
    {
     "data": {
      "text/plain": [
       "[1, 2, 'a', 'b']"
      ]
     },
     "execution_count": 36,
     "metadata": {},
     "output_type": "execute_result"
    }
   ],
   "source": [
    "##Concatenating Lists\n",
    "L5=[1,2]\n",
    "L6=L5+[\"a\",\"b\"]\n",
    "L6[0:4]"
   ]
  },
  {
   "cell_type": "code",
   "execution_count": 33,
   "id": "26c1c9fd-16fa-45c1-860b-9fe7bcb54bb4",
   "metadata": {},
   "outputs": [
    {
     "data": {
      "text/plain": [
       "[1, 2, 3, 4, 5]"
      ]
     },
     "execution_count": 33,
     "metadata": {},
     "output_type": "execute_result"
    }
   ],
   "source": [
    "## List.extend. Concatenating another list into a List as seperate elements by adding each item as an element\n",
    "##below the count of elements become 3 + 2\n",
    "L1=[1,2,3]\n",
    "L1.extend([4,5])\n",
    "L1[0:6]"
   ]
  },
  {
   "cell_type": "code",
   "execution_count": 35,
   "id": "f8e699ff-f2d7-4059-ad2f-f3933a92d1da",
   "metadata": {},
   "outputs": [
    {
     "data": {
      "text/plain": [
       "[1, 2, 3, 4, [5, 6]]"
      ]
     },
     "execution_count": 35,
     "metadata": {},
     "output_type": "execute_result"
    }
   ],
   "source": [
    "## List append , adds only 1 elemet to a list\n",
    "##in append the count of elements become 4 + 1\n",
    "L2=[1,2,3,4]\n",
    "L2.append([5,6])\n",
    "L2[0:len(L2)+1]\n",
    "\n"
   ]
  },
  {
   "cell_type": "code",
   "execution_count": 37,
   "id": "d82326a8-7250-4805-8bbf-67482eb32b7d",
   "metadata": {},
   "outputs": [
    {
     "data": {
      "text/plain": [
       "['aa', 'b', 'c']"
      ]
     },
     "execution_count": 37,
     "metadata": {},
     "output_type": "execute_result"
    }
   ],
   "source": [
    "## Lists are mutable ,means we can change elements\n",
    "L7=[\"a\",\"b\",\"c\"]\n",
    "L7[0]=\"aa\"\n",
    "L7[0:3]"
   ]
  },
  {
   "cell_type": "code",
   "execution_count": 38,
   "id": "1ca3f627-c1ca-4aaa-bed3-50e7e9068d2b",
   "metadata": {},
   "outputs": [
    {
     "data": {
      "text/plain": [
       "[2, 3, 4]"
      ]
     },
     "execution_count": 38,
     "metadata": {},
     "output_type": "execute_result"
    }
   ],
   "source": [
    "## delete an element\n",
    "L8=[1,2,3,4]\n",
    "del(L8[0])\n",
    "L8[0:len(L8)+1]"
   ]
  },
  {
   "cell_type": "code",
   "execution_count": 39,
   "id": "59074703-bda4-407c-9abb-ec0a4787cf06",
   "metadata": {},
   "outputs": [
    {
     "data": {
      "text/plain": [
       "['hard', 'rock']"
      ]
     },
     "execution_count": 39,
     "metadata": {},
     "output_type": "execute_result"
    }
   ],
   "source": [
    "##Convert String to List\n",
    "\"hard rock\".split()\n"
   ]
  },
  {
   "cell_type": "code",
   "execution_count": 41,
   "id": "92c7381c-4638-49ef-9d76-26451ae14d1b",
   "metadata": {},
   "outputs": [
    {
     "data": {
      "text/plain": [
       "['A', 'B', 'C', 'D']"
      ]
     },
     "execution_count": 41,
     "metadata": {},
     "output_type": "execute_result"
    }
   ],
   "source": [
    "\"A,B,C,D\".split(\",\")"
   ]
  },
  {
   "cell_type": "code",
   "execution_count": 42,
   "id": "7df4aa9c-8857-40a0-ab3a-dd5c60ff1dd1",
   "metadata": {},
   "outputs": [],
   "source": [
    "##Clone a list\n",
    "A=[1,2,3]\n",
    "B=A[:]"
   ]
  },
  {
   "cell_type": "code",
   "execution_count": 43,
   "id": "bf542b3a-aec7-4139-9340-8d8040550452",
   "metadata": {},
   "outputs": [
    {
     "data": {
      "text/plain": [
       "[1, 2, 3]"
      ]
     },
     "execution_count": 43,
     "metadata": {},
     "output_type": "execute_result"
    }
   ],
   "source": [
    "B[0:3]"
   ]
  },
  {
   "cell_type": "code",
   "execution_count": 46,
   "id": "7333f25d-5839-4bfa-a865-a7ab1807397b",
   "metadata": {},
   "outputs": [
    {
     "name": "stdout",
     "output_type": "stream",
     "text": [
      "[1, 2, 3]\n",
      "1\n"
     ]
    }
   ],
   "source": [
    "## Print a list just by using the variable name\n",
    "print (B)\n",
    "print (B[0])"
   ]
  },
  {
   "cell_type": "code",
   "execution_count": null,
   "id": "288f74eb-338e-4fed-ac19-39c366507199",
   "metadata": {},
   "outputs": [],
   "source": []
  }
 ],
 "metadata": {
  "kernelspec": {
   "display_name": "Python",
   "language": "python",
   "name": "conda-env-python-py"
  },
  "language_info": {
   "codemirror_mode": {
    "name": "ipython",
    "version": 3
   },
   "file_extension": ".py",
   "mimetype": "text/x-python",
   "name": "python",
   "nbconvert_exporter": "python",
   "pygments_lexer": "ipython3",
   "version": "3.7.10"
  }
 },
 "nbformat": 4,
 "nbformat_minor": 5
}
